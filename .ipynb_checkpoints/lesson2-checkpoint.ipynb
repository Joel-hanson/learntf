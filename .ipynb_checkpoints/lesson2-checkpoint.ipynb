{
 "cells": [
  {
   "cell_type": "code",
   "execution_count": 1,
   "metadata": {},
   "outputs": [],
   "source": [
    "import tensorflow as tf\n",
    "import numpy as np\n",
    "sess = tf.Session()"
   ]
  },
  {
   "cell_type": "markdown",
   "metadata": {},
   "source": [
    "#                                           Contants,Sequences,Variables"
   ]
  },
  {
   "cell_type": "code",
   "execution_count": 2,
   "metadata": {},
   "outputs": [
    {
     "name": "stdout",
     "output_type": "stream",
     "text": [
      "[[2 6]\n",
      " [3 8]]\n"
     ]
    }
   ],
   "source": [
    "'''Ordinary multiplication'''\n",
    "a = tf.constant([1,2],name = 'a')\n",
    "b = tf.constant([[2,3],\n",
    "                 [3,4]],name = 'b')\n",
    "mul = tf.multiply(a,b,name = 'mul_a_b')\n",
    "print(sess.run(mul))"
   ]
  },
  {
   "cell_type": "code",
   "execution_count": 3,
   "metadata": {},
   "outputs": [
    {
     "name": "stdout",
     "output_type": "stream",
     "text": [
      "[[0. 0. 0.]\n",
      " [0. 0. 0.]]\n"
     ]
    }
   ],
   "source": [
    "'''Array of Zeros'''\n",
    "zeros = tf.zeros([2,3],name = 'zeros')\n",
    "print(sess.run(zeros))"
   ]
  },
  {
   "cell_type": "code",
   "execution_count": 4,
   "metadata": {},
   "outputs": [
    {
     "name": "stdout",
     "output_type": "stream",
     "text": [
      "[[[0 0]\n",
      "  [0 0]]\n",
      "\n",
      " [[0 0]\n",
      "  [0 0]]]\n"
     ]
    }
   ],
   "source": [
    "'''Array like zeros'''\n",
    "zeros_arr = tf.zeros_like([[[2,3],[2,5]],[[2,3],[2,5]]])\n",
    "print(sess.run(zeros_arr))"
   ]
  },
  {
   "cell_type": "code",
   "execution_count": 5,
   "metadata": {},
   "outputs": [
    {
     "name": "stdout",
     "output_type": "stream",
     "text": [
      "[[1. 1. 1.]\n",
      " [1. 1. 1.]]\n"
     ]
    }
   ],
   "source": [
    "'''Array of Ones'''\n",
    "ones = tf.ones([2,3],name = 'zeros')\n",
    "print(sess.run(ones))"
   ]
  },
  {
   "cell_type": "code",
   "execution_count": 6,
   "metadata": {},
   "outputs": [
    {
     "name": "stdout",
     "output_type": "stream",
     "text": [
      "[[[1 1]\n",
      "  [1 1]]\n",
      "\n",
      " [[1 1]\n",
      "  [1 1]]]\n"
     ]
    }
   ],
   "source": [
    "'''Array like zeros'''\n",
    "ones_arr = tf.ones_like([[[2,3],[2,5]],[[2,3],[2,5]]])\n",
    "print(sess.run(ones_arr))"
   ]
  },
  {
   "cell_type": "code",
   "execution_count": 7,
   "metadata": {},
   "outputs": [
    {
     "name": "stdout",
     "output_type": "stream",
     "text": [
      "[[8 8 8]\n",
      " [8 8 8]]\n"
     ]
    }
   ],
   "source": [
    "'''Array fill with values'''\n",
    "print(sess.run(tf.fill([2,3],8,name = 'fill')))"
   ]
  },
  {
   "cell_type": "code",
   "execution_count": 8,
   "metadata": {},
   "outputs": [
    {
     "name": "stdout",
     "output_type": "stream",
     "text": [
      "[ 1.  2.  3.  4.  5.  6.  7.  8.  9. 10.]\n"
     ]
    }
   ],
   "source": [
    "'''lin_space same as numpy.lin_space'''\n",
    "print(sess.run(tf.lin_space(1.0,10.0,10)))"
   ]
  },
  {
   "cell_type": "code",
   "execution_count": 9,
   "metadata": {},
   "outputs": [
    {
     "name": "stdout",
     "output_type": "stream",
     "text": [
      "[0 1 2 3 4 5 6 7 8 9]\n"
     ]
    }
   ],
   "source": [
    "'''Range series of numbers (tf.range is not iteratable)'''\n",
    "print(sess.run(tf.range(10)))"
   ]
  },
  {
   "cell_type": "code",
   "execution_count": 10,
   "metadata": {},
   "outputs": [
    {
     "name": "stdout",
     "output_type": "stream",
     "text": [
      "Random Normal :\n",
      "\n",
      " [[ 0.6225997   0.70990205 -1.2152834 ]\n",
      " [ 1.4317979   1.2095938  -0.12144395]] \n",
      "\n",
      "Truncated Normal :\n",
      "\n",
      " [[-0.68406487 -0.93103164 -0.07214185]\n",
      " [ 0.02428255  1.3735187  -0.45626205]] \n",
      "\n",
      "Random Uniform :\n",
      "\n",
      " [[0.26971662 0.4391178  0.62394   ]\n",
      " [0.72054684 0.99697554 0.6722752 ]] \n",
      "\n",
      "Multinomial :\n",
      "\n",
      " [[1 0 1 0 0]] \n",
      "\n",
      "Random gamma :\n",
      "\n",
      " [[4.8548871e-04 3.2094505e-01]\n",
      " [4.4117221e-03 2.0915403e+00]\n",
      " [1.4443995e-01 4.5714062e-01]\n",
      " [5.5715573e-01 1.3794088e-01]\n",
      " [1.9366568e+00 1.3004564e+00]\n",
      " [3.2933052e+00 2.7829762e+00]\n",
      " [3.0601075e-01 1.5662234e+00]\n",
      " [2.9592162e-03 7.4787873e-01]\n",
      " [1.2336950e-01 1.8588678e+00]\n",
      " [4.6737340e-01 8.3280283e-01]] \n",
      "\n"
     ]
    }
   ],
   "source": [
    "'''Random generated constants'''\n",
    "print('Random Normal :\\n\\n',sess.run( tf.random_normal([2,3])),'\\n')\n",
    "print('Truncated Normal :\\n\\n',sess.run( tf.truncated_normal([2,3]) ),'\\n')\n",
    "print('Random Uniform :\\n\\n',sess.run( tf.random_uniform([2,3]) ),'\\n')\n",
    "'''## Random crop is a image function ##'''\n",
    "# print('Random Crop :\\n\\n',sess.run( tf.random_crop(image,[256,256,3]) ),'\\n')\n",
    "print('Multinomial :\\n\\n',sess.run( tf.multinomial(tf.log([[10., 10.]]), 5) ),'\\n')\n",
    "print('Random gamma :\\n\\n',sess.run( tf.random_gamma([10],[.5,1.5]) ),'\\n')"
   ]
  },
  {
   "cell_type": "code",
   "execution_count": 11,
   "metadata": {},
   "outputs": [
    {
     "data": {
      "text/plain": [
       "'To set a graph-level seed'"
      ]
     },
     "execution_count": 11,
     "metadata": {},
     "output_type": "execute_result"
    }
   ],
   "source": [
    "'''To set a graph-level seed'''\n",
    "# tf.set_random_seed()"
   ]
  },
  {
   "cell_type": "markdown",
   "metadata": {},
   "source": [
    "## Arithametic operations"
   ]
  },
  {
   "cell_type": "code",
   "execution_count": 12,
   "metadata": {},
   "outputs": [
    {
     "name": "stdout",
     "output_type": "stream",
     "text": [
      "25\n"
     ]
    }
   ],
   "source": [
    "'''Absolute value (|x|)'''\n",
    "print(sess.run(tf.abs(-25)))"
   ]
  },
  {
   "cell_type": "code",
   "execution_count": 13,
   "metadata": {},
   "outputs": [
    {
     "name": "stdout",
     "output_type": "stream",
     "text": [
      "-25\n"
     ]
    }
   ],
   "source": [
    "'''Negative (-)'''\n",
    "print(sess.run(tf.negative(25)))"
   ]
  },
  {
   "cell_type": "code",
   "execution_count": 14,
   "metadata": {},
   "outputs": [
    {
     "name": "stdout",
     "output_type": "stream",
     "text": [
      "-1 \n",
      " 1\n"
     ]
    }
   ],
   "source": [
    "'''Sign(+ -)'''\n",
    "print(sess.run(tf.sign(-25)),'\\n',sess.run(tf.sign(25)))"
   ]
  },
  {
   "cell_type": "code",
   "execution_count": 15,
   "metadata": {},
   "outputs": [
    {
     "name": "stdout",
     "output_type": "stream",
     "text": [
      "0.2\n"
     ]
    }
   ],
   "source": [
    "'''Reciprocal (1/x)'''\n",
    "x = tf.constant(5,dtype= tf.float32)\n",
    "print(sess.run(tf.reciprocal(x)))"
   ]
  },
  {
   "cell_type": "code",
   "execution_count": 16,
   "metadata": {},
   "outputs": [
    {
     "name": "stdout",
     "output_type": "stream",
     "text": [
      "625\n"
     ]
    }
   ],
   "source": [
    "'''Square (x^2)'''\n",
    "print(sess.run(tf.square(25)))"
   ]
  },
  {
   "cell_type": "code",
   "execution_count": 20,
   "metadata": {},
   "outputs": [
    {
     "name": "stdout",
     "output_type": "stream",
     "text": [
      "0.4472136\n"
     ]
    }
   ],
   "source": [
    "'''Reciprocal of square root (y = 1/sqrt(x))'''\n",
    "x = tf.constant(5,dtype= tf.float32)\n",
    "print(sess.run(tf.rsqrt(x)))"
   ]
  },
  {
   "cell_type": "code",
   "execution_count": 22,
   "metadata": {},
   "outputs": [
    {
     "name": "stdout",
     "output_type": "stream",
     "text": [
      "25\n"
     ]
    }
   ],
   "source": [
    "'''Power (y^x)'''\n",
    "print(sess.run(tf.pow(5,2)))"
   ]
  },
  {
   "cell_type": "code",
   "execution_count": 25,
   "metadata": {},
   "outputs": [
    {
     "name": "stdout",
     "output_type": "stream",
     "text": [
      "22026.465\n"
     ]
    }
   ],
   "source": [
    "'''Exponential (y = e^x)'''\n",
    "x = tf.constant(10,dtype= tf.float32)\n",
    "print(sess.run(tf.exp(x)))"
   ]
  },
  {
   "cell_type": "markdown",
   "metadata": {},
   "source": [
    "### Divsion method"
   ]
  },
  {
   "cell_type": "code",
   "execution_count": 28,
   "metadata": {},
   "outputs": [
    {
     "ename": "SyntaxError",
     "evalue": "invalid character in identifier (<ipython-input-28-e0b3610f8793>, line 8)",
     "output_type": "error",
     "traceback": [
      "\u001b[0;36m  File \u001b[0;32m\"<ipython-input-28-e0b3610f8793>\"\u001b[0;36m, line \u001b[0;32m8\u001b[0m\n\u001b[0;31m    print(sess.run(tf.realdiv(b, a)))\u001b[0m\n\u001b[0m                                         ^\u001b[0m\n\u001b[0;31mSyntaxError\u001b[0m\u001b[0;31m:\u001b[0m invalid character in identifier\n"
     ]
    }
   ],
   "source": [
    "a = tf.constant([2,2],name = 'a')\n",
    "b = tf.constant([[1,2],[2,3]],name = 'b')\n",
    "with sess:\n",
    "    print(sess.run(tf.div(b, a)))\n",
    "    print(sess.run(tf.divide(b, a)))\n",
    "    print(sess.run(tf.truediv(b, a)))\n",
    "    print(sess.run(tf.floordiv(b, a)))\n",
    "    print(sess.run(tf.realdiv(b, a)))     \n",
    "    print(sess.run(tf.truncatediv(b, a)))\n",
    "    print(sess.run(tf.floor_div(b, a)))    "
   ]
  },
  {
   "cell_type": "code",
   "execution_count": 17,
   "metadata": {},
   "outputs": [
    {
     "name": "stdout",
     "output_type": "stream",
     "text": [
      "[[ 8 11]\n",
      " [16 23]]\n"
     ]
    }
   ],
   "source": [
    "'''Ordinary MatMul-tiplication'''\n",
    "mat_a = tf.constant([[1,2],\n",
    "                    [5,2]],name = 'mat_a')\n",
    "mat_b = tf.constant([[2,3],\n",
    "                     [3,4]],name = 'mat_b')\n",
    "mat_mul = tf.matmul(mat_a,mat_b,name = 'matmul_a_b')\n",
    "print(sess.run(mat_mul))"
   ]
  },
  {
   "cell_type": "code",
   "execution_count": 18,
   "metadata": {},
   "outputs": [
    {
     "data": {
      "text/plain": [
       "<tf.Tensor 'add:0' shape=() dtype=float64>"
      ]
     },
     "execution_count": 18,
     "metadata": {},
     "output_type": "execute_result"
    }
   ],
   "source": [
    "x = tf.constant(5,dtype=tf.float64)\n",
    "x + tf.cast(tf.equal(x, 0), x.dtype)"
   ]
  }
 ],
 "metadata": {
  "kernelspec": {
   "display_name": "Python 3",
   "language": "python",
   "name": "python3"
  },
  "language_info": {
   "codemirror_mode": {
    "name": "ipython",
    "version": 3
   },
   "file_extension": ".py",
   "mimetype": "text/x-python",
   "name": "python",
   "nbconvert_exporter": "python",
   "pygments_lexer": "ipython3",
   "version": "3.6.5"
  }
 },
 "nbformat": 4,
 "nbformat_minor": 2
}
