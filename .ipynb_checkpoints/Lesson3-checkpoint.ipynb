{
 "cells": [
  {
   "cell_type": "markdown",
   "metadata": {},
   "source": [
    "# ``Machine Learning MODEL``\n"
   ]
  },
  {
   "cell_type": "code",
   "execution_count": 1,
   "metadata": {},
   "outputs": [],
   "source": [
    "import os\n",
    "os.environ['TF_CPP_MIN_LOG_LEVEL']='2'\n",
    "import time\n",
    "\n",
    "import tensorflow as tf\n",
    "import numpy as np\n",
    "import pandas as pd\n",
    "import matplotlib.pyplot as plt"
   ]
  },
  {
   "cell_type": "markdown",
   "metadata": {},
   "source": [
    "1. ##### Linear regression\n",
    "2. ##### Control Flow\n",
    "3. ##### tf.data\n",
    "4. ##### Optimizers,gradients\n",
    "5. ##### Logistic regression on MNIST\n",
    "6. ##### Loss functions"
   ]
  },
  {
   "cell_type": "markdown",
   "metadata": {},
   "source": [
    "### `1. Linear regression`"
   ]
  },
  {
   "cell_type": "markdown",
   "metadata": {},
   "source": [
    "Linear Regression is a supervised machine learning technique. As we know, in supervised learning,\n",
    "the right answers to the input variables are given. This is also a regression problem because the\n",
    "output distribution is continuous.\n",
    "\n",
    "<code>h<sub>θ</sub>(x) =  θ<sub>0</sub> + θ <sub>1</sub>x``</code>\n",
    "\n",
    "simply we ca write\n",
    "\n",
    "`Y = wX + b`\n",
    "\n",
    "*Here we are going to use the World Development Indicators dataset*\n",
    "\n",
    "*X: Birth rate*\n",
    "\n",
    "*Y: Life expectancy*\n",
    "\n",
    "*190 countries*\n",
    "##### `To predict Y from X `\n",
    "\n",
    "___\n",
    "\n",
    "*Where as the error rate is calculated using the mean squared error*\n",
    "\n",
    "#####  Mean squared error: `E[(y - y_predicted)2]`\n",
    "\n"
   ]
  },
  {
   "cell_type": "code",
   "execution_count": 2,
   "metadata": {},
   "outputs": [
    {
     "name": "stdout",
     "output_type": "stream",
     "text": [
      "birth_life_2010.csv  birth_life_2010.txt\r\n"
     ]
    },
    {
     "data": {
      "text/plain": [
       "'Data resides in the lesson3_data folder'"
      ]
     },
     "execution_count": 2,
     "metadata": {},
     "output_type": "execute_result"
    }
   ],
   "source": [
    "!ls lesson3_data/\n",
    "'''Data resides in the lesson3_data folder'''"
   ]
  },
  {
   "cell_type": "code",
   "execution_count": 3,
   "metadata": {},
   "outputs": [
    {
     "data": {
      "text/html": [
       "<div>\n",
       "<style scoped>\n",
       "    .dataframe tbody tr th:only-of-type {\n",
       "        vertical-align: middle;\n",
       "    }\n",
       "\n",
       "    .dataframe tbody tr th {\n",
       "        vertical-align: top;\n",
       "    }\n",
       "\n",
       "    .dataframe thead th {\n",
       "        text-align: right;\n",
       "    }\n",
       "</style>\n",
       "<table border=\"1\" class=\"dataframe\">\n",
       "  <thead>\n",
       "    <tr style=\"text-align: right;\">\n",
       "      <th></th>\n",
       "      <th>Country</th>\n",
       "      <th>Birth rate</th>\n",
       "      <th>Life expectancy</th>\n",
       "    </tr>\n",
       "  </thead>\n",
       "  <tbody>\n",
       "    <tr>\n",
       "      <th>0</th>\n",
       "      <td>Vietnam</td>\n",
       "      <td>1.822</td>\n",
       "      <td>74.828244</td>\n",
       "    </tr>\n",
       "    <tr>\n",
       "      <th>1</th>\n",
       "      <td>Vanuatu</td>\n",
       "      <td>3.869</td>\n",
       "      <td>70.819488</td>\n",
       "    </tr>\n",
       "    <tr>\n",
       "      <th>2</th>\n",
       "      <td>Tonga</td>\n",
       "      <td>3.911</td>\n",
       "      <td>72.150659</td>\n",
       "    </tr>\n",
       "    <tr>\n",
       "      <th>3</th>\n",
       "      <td>Timor-Leste</td>\n",
       "      <td>5.578</td>\n",
       "      <td>61.999854</td>\n",
       "    </tr>\n",
       "    <tr>\n",
       "      <th>4</th>\n",
       "      <td>Thailand</td>\n",
       "      <td>1.579</td>\n",
       "      <td>73.927659</td>\n",
       "    </tr>\n",
       "  </tbody>\n",
       "</table>\n",
       "</div>"
      ],
      "text/plain": [
       "       Country  Birth rate  Life expectancy\n",
       "0      Vietnam       1.822        74.828244\n",
       "1      Vanuatu       3.869        70.819488\n",
       "2        Tonga       3.911        72.150659\n",
       "3  Timor-Leste       5.578        61.999854\n",
       "4     Thailand       1.579        73.927659"
      ]
     },
     "execution_count": 3,
     "metadata": {},
     "output_type": "execute_result"
    }
   ],
   "source": [
    "'''using csv dataframe '''\n",
    "df = pd.read_csv('lesson3_data/birth_life_2010.csv')\n",
    "df.head()"
   ]
  },
  {
   "cell_type": "code",
   "execution_count": 4,
   "metadata": {},
   "outputs": [],
   "source": [
    "'''using txt'''\n",
    "def read_birth_life_data(filename):\n",
    "    \"\"\"\n",
    "    Read in birth_life_2010.txt and return:\n",
    "    data in the form of NumPy array\n",
    "    n_samples: number of samples\n",
    "    \"\"\"\n",
    "    text = open(filename, 'r').readlines()[1:]\n",
    "    data = [line[:-1].split('\\t') for line in text]\n",
    "    births = [float(line[1]) for line in data]\n",
    "    lifes = [float(line[2]) for line in data]\n",
    "    data = list(zip(births, lifes))\n",
    "    n_samples = len(data)\n",
    "    data = np.asarray(data, dtype=np.float32)\n",
    "    return data, n_samples"
   ]
  },
  {
   "cell_type": "code",
   "execution_count": 5,
   "metadata": {},
   "outputs": [],
   "source": [
    "data,n_samples = read_birth_life_data('lesson3_data/birth_life_2010.txt')"
   ]
  },
  {
   "cell_type": "code",
   "execution_count": 6,
   "metadata": {},
   "outputs": [
    {
     "name": "stdout",
     "output_type": "stream",
     "text": [
      "Data: [[ 1.822    74.82825 ]\n",
      " [ 3.869    70.81949 ]\n",
      " [ 3.911    72.15066 ]\n",
      " [ 5.578    61.999855]\n",
      " [ 1.579    73.92766 ]] \n",
      "\n",
      "Samples 190\n"
     ]
    }
   ],
   "source": [
    "print('Data:', data[:5], '\\n\\nSamples' ,n_samples)"
   ]
  },
  {
   "cell_type": "code",
   "execution_count": 7,
   "metadata": {},
   "outputs": [],
   "source": [
    "'''Making placeholder for X and Y'''\n",
    "X = tf.placeholder(name = 'X',dtype=tf.float32)\n",
    "Y = tf.placeholder(name = 'Y',dtype=tf.float32)\n",
    "\n",
    "w = tf.get_variable('weight',initializer=tf.constant(0.0))\n",
    "b = tf.get_variable('bias',initializer=tf.constant(0.0))\n",
    "Y_pre = w * X + b\n",
    "loss = tf.square(Y - Y_pre,name='loss')"
   ]
  },
  {
   "cell_type": "code",
   "execution_count": 8,
   "metadata": {
    "scrolled": true
   },
   "outputs": [
    {
     "name": "stdout",
     "output_type": "stream",
     "text": [
      "Epoch 0: 1661.863764550287\n",
      "Epoch 1: 956.3224439573916\n",
      "Epoch 2: 844.6737683409139\n",
      "Epoch 3: 750.7312372197838\n",
      "Epoch 4: 667.659830722252\n",
      "Epoch 5: 594.1417484349327\n",
      "Epoch 6: 529.0787271179651\n",
      "Epoch 7: 471.5003584364135\n",
      "Epoch 8: 420.5458252520938\n",
      "Epoch 9: 375.45531067297253\n",
      "Epoch 10: 335.55436177954664\n",
      "Epoch 11: 300.24627770512666\n",
      "Epoch 12: 269.00374521501146\n",
      "Epoch 13: 241.3595776562824\n",
      "Epoch 14: 216.9003910217238\n",
      "Epoch 15: 195.25972397061292\n",
      "Epoch 16: 176.1137731664483\n",
      "Epoch 17: 159.17551683403158\n",
      "Epoch 18: 144.19069889799545\n",
      "Epoch 19: 130.93503690609023\n",
      "Epoch 20: 119.20935661137888\n",
      "Epoch 21: 108.83793506244884\n",
      "Epoch 22: 99.66458668207358\n",
      "Epoch 23: 91.55171666162971\n",
      "Epoch 24: 84.37658985632197\n",
      "Epoch 25: 78.03213362396008\n",
      "Epoch 26: 72.42178616552172\n",
      "Epoch 27: 67.46132107331957\n",
      "Epoch 28: 63.07563027821873\n",
      "Epoch 29: 59.19871881428714\n",
      "Epoch 30: 55.77163058824279\n",
      "Epoch 31: 52.742706123048954\n",
      "Epoch 32: 50.06563247971506\n",
      "Epoch 33: 47.70006537150391\n",
      "Epoch 34: 45.61017402416389\n",
      "Epoch 35: 43.763794843404014\n",
      "Epoch 36: 42.13259061904698\n",
      "Epoch 37: 40.692217106133775\n",
      "Epoch 38: 39.420219863367905\n",
      "Epoch 39: 38.297008645340895\n",
      "Epoch 40: 37.305592010505066\n",
      "Epoch 41: 36.43066341609841\n",
      "Epoch 42: 35.658454647898296\n",
      "Epoch 43: 34.977248985403655\n",
      "Epoch 44: 34.376551568753236\n",
      "Epoch 45: 33.846705867195695\n",
      "Epoch 46: 33.37967463995998\n",
      "Epoch 47: 32.9680108638946\n",
      "Epoch 48: 32.60548541990942\n",
      "Epoch 49: 32.28618434173986\n",
      "Epoch 50: 32.004961317298495\n",
      "Epoch 51: 31.75752976890163\n",
      "Epoch 52: 31.53978877073019\n",
      "Epoch 53: 31.34836144135732\n",
      "Epoch 54: 31.180118720635072\n",
      "Epoch 55: 31.03225782010038\n",
      "Epoch 56: 30.902463045723714\n",
      "Epoch 57: 30.788599823501748\n",
      "Epoch 58: 30.68872023182676\n",
      "Epoch 59: 30.60122912194102\n",
      "Epoch 60: 30.524589418089263\n",
      "Epoch 61: 30.457532704476954\n",
      "Epoch 62: 30.398964531451316\n",
      "Epoch 63: 30.34777825418737\n",
      "Epoch 64: 30.303121465726413\n",
      "Epoch 65: 30.264247165074092\n",
      "Epoch 66: 30.230395186190357\n",
      "Epoch 67: 30.200965440111528\n",
      "Epoch 68: 30.175501555469697\n",
      "Epoch 69: 30.153343991707324\n",
      "Epoch 70: 30.134226098457216\n",
      "Epoch 71: 30.117758308603477\n",
      "Epoch 72: 30.103543774372174\n",
      "Epoch 73: 30.091394110470336\n",
      "Epoch 74: 30.08093890536509\n",
      "Epoch 75: 30.072084357345624\n",
      "Epoch 76: 30.06452434975899\n",
      "Epoch 77: 30.0581486002297\n",
      "Epoch 78: 30.05278219980139\n",
      "Epoch 79: 30.04828310612785\n",
      "Epoch 80: 30.04458791257593\n",
      "Epoch 81: 30.041549566215345\n",
      "Epoch 82: 30.039046151249817\n",
      "Epoch 83: 30.037039793959796\n",
      "Epoch 84: 30.035464155240486\n",
      "Epoch 85: 30.034287342776263\n",
      "Epoch 86: 30.033386764163456\n",
      "Epoch 87: 30.03276857610855\n",
      "Epoch 88: 30.032388654677273\n",
      "Epoch 89: 30.032152204158926\n",
      "Epoch 90: 30.03209388247043\n",
      "Epoch 91: 30.03219517776896\n",
      "Epoch 92: 30.032402951199575\n",
      "Epoch 93: 30.03264380555698\n",
      "Epoch 94: 30.033044778692265\n",
      "Epoch 95: 30.03343712379727\n",
      "Epoch 96: 30.033913317535955\n",
      "Epoch 97: 30.03442924663878\n",
      "Epoch 98: 30.0349335548615\n",
      "Epoch 99: 30.03552558278714\n",
      "\n",
      " weight:  -6.0702143 \n",
      " bias:  84.92951 \n",
      " average_loss 30.03552558278714\n"
     ]
    }
   ],
   "source": [
    "start = time.time()\n",
    "optimizer = tf.train.GradientDescentOptimizer(learning_rate=0.001).minimize(loss)\n",
    "# writer = tf.summary.FileWriter('tensorboard/linear_regression',graph=tf.get_default_graph())\n",
    "with tf.Session() as sess:\n",
    "    sess.run(tf.global_variables_initializer())\n",
    "    for i in range(100):\n",
    "        loss_value = 0\n",
    "        for x,y in data:\n",
    "            _,l = sess.run([optimizer,loss],feed_dict={X:x,Y:y})\n",
    "            loss_value += l\n",
    "        print('Epoch {0}: {1}'.format(i, loss_value/n_samples))\n",
    "    w_out, b_out = sess.run([w, b] )\n",
    "    print('\\n weight: ',w_out,'\\n bias: ',b_out,'\\n average_loss',loss_value/n_samples)\n",
    "# writer.close()\n",
    "print('Took: %f seconds' %(time.time() - start))"
   ]
  },
  {
   "cell_type": "code",
   "execution_count": 9,
   "metadata": {},
   "outputs": [
    {
     "name": "stdout",
     "output_type": "stream",
     "text": [
      "Took: 3.932003 seconds\n"
     ]
    },
    {
     "data": {
      "image/png": "[encoded data removed]",
      "text/plain": [
       "<Figure size 432x288 with 1 Axes>"
      ]
     },
     "metadata": {},
     "output_type": "display_data"
    }
   ],
   "source": [
    "plt.plot(data[:,0], data[:,1], 'bo', label='Real data')\n",
    "plt.plot(data[:,0], data[:,0] * w_out + b_out, 'r', label='Predicted data')\n",
    "plt.legend()\n",
    "plt.show()"
   ]
  },
  {
   "cell_type": "markdown",
   "metadata": {},
   "source": [
    "### `Control flow: Huber loss`"
   ]
  },
  {
   "cell_type": "markdown",
   "metadata": {},
   "source": [
    " Outliers of the graph have low birth rate but also low life expectancy this effect is called Huber loss \n",
    "\n",
    "  where d is  `δ`.\n",
    "  where x is `Y - Y_pre`.\n",
    " \n",
    "  `0.5 * x^2                  if |x| <= d`\n",
    "  \n",
    "  `0.5 * d^2 + d * (|x| - d)  if |x| > d`\n",
    " \n",
    " simple saying it is just to make more accuracy by "
   ]
  },
  {
   "cell_type": "code",
   "execution_count": 17,
   "metadata": {
    "scrolled": true
   },
   "outputs": [
    {
     "name": "stdout",
     "output_type": "stream",
     "text": [
      "Epoch 0: 712.5349932218853\n",
      "Epoch 1: 480.1768338768106\n",
      "Epoch 2: 411.27837095009653\n",
      "Epoch 3: 381.143803016763\n",
      "Epoch 4: 363.96519568942387\n",
      "Epoch 5: 352.0028216342001\n",
      "Epoch 6: 342.65910039112754\n",
      "Epoch 7: 334.84100784196664\n",
      "Epoch 8: 327.9518736341282\n",
      "Epoch 9: 321.63482000235666\n",
      "Epoch 10: 315.6941960449968\n",
      "Epoch 11: 310.0039571509844\n",
      "Epoch 12: 304.4644903231608\n",
      "Epoch 13: 299.0284345306064\n",
      "Epoch 14: 293.6694770147926\n",
      "Epoch 15: 288.3639233997778\n",
      "Epoch 16: 283.0933333819634\n",
      "Epoch 17: 277.85644171355585\n",
      "Epoch 18: 272.6439291345446\n",
      "Epoch 19: 267.44677355952166\n",
      "Epoch 20: 262.2604390375855\n",
      "Epoch 21: 257.0869516860634\n",
      "Epoch 22: 251.93409620844758\n",
      "Epoch 23: 246.7978311511443\n",
      "Epoch 24: 241.68042829000441\n",
      "Epoch 25: 236.58249802497158\n",
      "Epoch 26: 231.50381602431207\n",
      "Epoch 27: 226.4469073355737\n",
      "Epoch 28: 221.41355832310785\n",
      "Epoch 29: 216.40122747868298\n",
      "Epoch 30: 211.41857506291646\n",
      "Epoch 31: 206.4636872577824\n",
      "Epoch 32: 201.5256608824981\n",
      "Epoch 33: 196.60663773480215\n",
      "Epoch 34: 191.69949661995236\n",
      "Epoch 35: 186.81957386904642\n",
      "Epoch 36: 181.97026195526124\n",
      "Epoch 37: 177.15822704340283\n",
      "Epoch 38: 172.36515824982993\n",
      "Epoch 39: 167.59127469086334\n",
      "Epoch 40: 162.8461132945983\n",
      "Epoch 41: 158.1302945310348\n",
      "Epoch 42: 153.4446832491379\n",
      "Epoch 43: 148.78938361339664\n",
      "Epoch 44: 144.17467782383687\n",
      "Epoch 45: 139.59350521709572\n",
      "Epoch 46: 135.0799269277359\n",
      "Epoch 47: 130.61376950433967\n",
      "Epoch 48: 126.20577719486073\n",
      "Epoch 49: 121.83948346442224\n",
      "Epoch 50: 117.53008066379407\n",
      "Epoch 51: 113.27451417348163\n",
      "Epoch 52: 109.09293648436372\n",
      "Epoch 53: 104.98878251981422\n",
      "Epoch 54: 100.96831291019916\n",
      "Epoch 55: 97.04090007381073\n",
      "Epoch 56: 93.20598697668848\n",
      "Epoch 57: 89.44805010246407\n",
      "Epoch 58: 85.79511913707185\n",
      "Epoch 59: 82.24485294783587\n",
      "Epoch 60: 78.81007368673913\n",
      "Epoch 61: 75.46468300612055\n",
      "Epoch 62: 72.22824628802114\n",
      "Epoch 63: 69.0970203716504\n",
      "Epoch 64: 66.07316139007085\n",
      "Epoch 65: 63.17249699153364\n",
      "Epoch 66: 60.39144998395717\n",
      "Epoch 67: 57.732441508548185\n",
      "Epoch 68: 55.18886458672289\n",
      "Epoch 69: 52.765521257783064\n",
      "Epoch 70: 50.44132069787501\n",
      "Epoch 71: 48.232464265970414\n",
      "Epoch 72: 46.147971851262916\n",
      "Epoch 73: 44.156567127835984\n",
      "Epoch 74: 42.26910537076428\n",
      "Epoch 75: 40.4945643139905\n",
      "Epoch 76: 38.82137201415179\n",
      "Epoch 77: 37.26528371417601\n",
      "Epoch 78: 35.80452302174741\n",
      "Epoch 79: 34.42864761231957\n",
      "Epoch 80: 33.14079166570399\n",
      "Epoch 81: 31.935278984857725\n",
      "Epoch 82: 30.806799320126025\n",
      "Epoch 83: 29.74883725124926\n",
      "Epoch 84: 28.75753059838163\n",
      "Epoch 85: 27.828843814313508\n",
      "Epoch 86: 26.95892982277774\n",
      "Epoch 87: 26.143821478840945\n",
      "Epoch 88: 25.38612711686935\n",
      "Epoch 89: 24.68093857832351\n",
      "Epoch 90: 24.01969862843781\n",
      "Epoch 91: 23.411343748113875\n",
      "Epoch 92: 22.841170396880205\n",
      "Epoch 93: 22.30823898453535\n",
      "Epoch 94: 21.810646478993522\n",
      "Epoch 95: 21.345948342074593\n",
      "Epoch 96: 20.91201211649214\n",
      "Epoch 97: 20.5068725735208\n",
      "Epoch 98: 20.12850519813058\n",
      "Epoch 99: 19.7766584059922\n",
      "\n",
      " weight:  -4.2249994 \n",
      " bias:  78.485054 \n",
      " average_loss 19.7766584059922\n",
      "Took: 5.152693 seconds\n"
     ]
    }
   ],
   "source": [
    "X_huber = tf.placeholder(name = 'X_huber',dtype=tf.float32)\n",
    "Y_huber = tf.placeholder(name = 'Y_huber',dtype=tf.float32)\n",
    "\n",
    "def huber_loss(labels, predictions, delta=14.0):\n",
    "    residual = tf.abs(labels - predictions)\n",
    "    def f1(): return 0.5 * tf.square(residual)\n",
    "    def f2(): return delta *  residual - 0.5 * tf.square(delta)\n",
    "    return tf.cond(residual < delta, f1, f2)\n",
    "\n",
    "w_huber = tf.get_variable('weight_huber',initializer=tf.constant(0.0))\n",
    "b_huber = tf.get_variable('bias_huber',initializer=tf.constant(0.0))\n",
    "Y_pre_huber = w_huber * X + b_huber\n",
    "\n",
    "loss = huber_loss(Y,Y_pre_huber)\n",
    "start = time.time()\n",
    "\n",
    "optimizer = tf.train.GradientDescentOptimizer(learning_rate=0.001).minimize(loss)\n",
    "# writer = tf.summary.FileWriter('tensorboard/linear_regression',graph=tf.get_default_graph())\n",
    "with tf.Session() as sess:\n",
    "    sess.run(tf.global_variables_initializer())\n",
    "    for i in range(100):\n",
    "        loss_value = 0\n",
    "        for x,y in data:\n",
    "            _,l = sess.run([optimizer,loss],feed_dict={X_huber:x,Y_huber:y})\n",
    "            loss_value += l\n",
    "        print('Epoch {0}: {1}'.format(i, loss_value/n_samples))\n",
    "    w_out_huber, b_out_huber = sess.run([w_huber, b_huber] )\n",
    "    print('\\n weight: ',w_out_huber,'\\n bias: ',b_out_huber,'\\n average_loss',loss_value/n_samples)\n",
    "# writer.close()\n",
    "print('Took: %f seconds' %(time.time() - start))"
   ]
  },
  {
   "cell_type": "code",
   "execution_count": 18,
   "metadata": {},
   "outputs": [
    {
     "data": {
      "image/png": "[encoded data removed]",
      "text/plain": [
       "<Figure size 432x288 with 1 Axes>"
      ]
     },
     "metadata": {},
     "output_type": "display_data"
    }
   ],
   "source": [
    "plt.plot(data[:,0], data[:,1], 'bo', label='Real data')\n",
    "plt.plot(data[:,0], data[:,0] * w_out + b_out, 'r', label='Predicted data')\n",
    "plt.plot(data[:,0], data[:,0] * w_out_huber + b_out_huber, 'g', label='New predicted data')\n",
    "plt.legend()\n",
    "plt.show()"
   ]
  },
  {
   "cell_type": "code",
   "execution_count": null,
   "metadata": {},
   "outputs": [],
   "source": []
  }
 ],
 "metadata": {
  "kernelspec": {
   "display_name": "Python 3",
   "language": "python",
   "name": "python3"
  },
  "language_info": {
   "codemirror_mode": {
    "name": "ipython",
    "version": 3
   },
   "file_extension": ".py",
   "mimetype": "text/x-python",
   "name": "python",
   "nbconvert_exporter": "python",
   "pygments_lexer": "ipython3",
   "version": "3.6.4"
  }
 },
 "nbformat": 4,
 "nbformat_minor": 2
}
