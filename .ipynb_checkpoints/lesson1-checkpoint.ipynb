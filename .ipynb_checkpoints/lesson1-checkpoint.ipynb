{
 "cells": [
  {
   "cell_type": "code",
   "execution_count": 1,
   "metadata": {},
   "outputs": [],
   "source": [
    "import tensorflow as tf"
   ]
  },
  {
   "cell_type": "code",
   "execution_count": 6,
   "metadata": {},
   "outputs": [
    {
     "name": "stdout",
     "output_type": "stream",
     "text": [
      "5\n"
     ]
    }
   ],
   "source": [
    "'''Addition with graph constrution'''\n",
    "g = tf.Graph()\n",
    "\n",
    "'''##### graph is taken #####'''\n",
    "\n",
    "with g.as_default():\n",
    "    '''## constant created ##'''\n",
    "    a = tf.constant(2,name = 'a')\n",
    "    b = tf.constant(3,name = 'b')\n",
    "    \n",
    "    '''## constant addition ##'''\n",
    "    sum_a_b = tf.add(a,b,name = 'sum_a_b')\n",
    "    '''## tensorboard file writer ##'''\n",
    "    writer = tf.summary.FileWriter('/tmp/graphs',tf.get_default_graph())\n",
    "    '''## session created ##'''\n",
    "    with tf.Session() as sess:\n",
    "        '''## session run ##'''\n",
    "        print(sess.run(sum_a_b))\n",
    "    '''writer should be made open before session and must be closed after session'''\n",
    "    writer.close()"
   ]
  }
 ],
 "metadata": {
  "kernelspec": {
   "display_name": "Python 3",
   "language": "python",
   "name": "python3"
  },
  "language_info": {
   "codemirror_mode": {
    "name": "ipython",
    "version": 3
   },
   "file_extension": ".py",
   "mimetype": "text/x-python",
   "name": "python",
   "nbconvert_exporter": "python",
   "pygments_lexer": "ipython3",
   "version": "3.6.5"
  }
 },
 "nbformat": 4,
 "nbformat_minor": 2
}
