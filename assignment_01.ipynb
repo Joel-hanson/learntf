{
 "cells": [
  {
   "cell_type": "code",
   "execution_count": 1,
   "metadata": {},
   "outputs": [
    {
     "name": "stderr",
     "output_type": "stream",
     "text": [
      "/home/joel/anaconda3/envs/tf/lib/python3.6/site-packages/h5py/__init__.py:36: FutureWarning: Conversion of the second argument of issubdtype from `float` to `np.floating` is deprecated. In future, it will be treated as `np.float64 == np.dtype(float).type`.\n",
      "  from ._conv import register_converters as _register_converters\n"
     ]
    }
   ],
   "source": [
    "\"\"\"\n",
    "Simple exercises to get used to TensorFlow API\n",
    "You should thoroughly test your code.\n",
    "TensorFlow's official documentation should be your best friend here\n",
    "CS20: \"TensorFlow for Deep Learning Research\"\n",
    "cs20.stanford.edu\n",
    "Created by Chip Huyen (chiphuyen@cs.stanford.edu)\n",
    "\"\"\"\n",
    "import os\n",
    "os.environ['TF_CPP_MIN_LOG_LEVEL']='2'\n",
    "\n",
    "import tensorflow as tf\n",
    "\n",
    "sess = tf.InteractiveSession()"
   ]
  },
  {
   "cell_type": "code",
   "execution_count": 2,
   "metadata": {},
   "outputs": [
    {
     "data": {
      "text/plain": [
       "[-2.4241366, 1.506267, -3.9304037]"
      ]
     },
     "execution_count": 2,
     "metadata": {},
     "output_type": "execute_result"
    }
   ],
   "source": [
    "###############################################################################\n",
    "# 1a: Create two random 0-d tensors x and y of any distribution.\n",
    "# Create a TensorFlow object that returns x + y if x > y, and x - y otherwise.\n",
    "# Hint: look up tf.cond()\n",
    "# I do the first problem for you\n",
    "###############################################################################\n",
    "x = tf.random_normal([],name='x')\n",
    "y = tf.random_normal([],name='y')\n",
    "ans_1 = tf.cond(tf.greater(x,y),lambda: tf.add(x,y),lambda: tf.subtract(x,y))\n",
    "sess.run([x,y,ans_1])"
   ]
  },
  {
   "cell_type": "code",
   "execution_count": 17,
   "metadata": {},
   "outputs": [
    {
     "data": {
      "text/plain": [
       "[-0.61509323, 0.70092154, 0.085828304, 0.085828304]"
      ]
     },
     "execution_count": 17,
     "metadata": {},
     "output_type": "execute_result"
    }
   ],
   "source": [
    "###############################################################################\n",
    "# 1b: Create two 0-d tensors x and y randomly selected from the range [-1, 1).\n",
    "# Return x + y if x < y, x - y if x > y, 0 otherwise.\n",
    "# Hint: Look up tf.case().\n",
    "###############################################################################\n",
    "z = tf.random_uniform([],minval=-1,maxval=1)\n",
    "w = tf.random_uniform([],minval=-1,maxval=1)\n",
    "def fn1(): return tf.cond(tf.equal(z,w),lambda: tf.zeros([]),lambda: tf.subtract(z,w))\n",
    "ans_2 = tf.cond(tf.less(z,w),lambda: tf.add(z,w),fn1)\n",
    "out = tf.case({tf.less(z,w):lambda:tf.add(z,w),tf.greater(z, w): lambda: tf.subtract(z, w)},default=lambda: tf.constant(0.0), exclusive=True)\n",
    "sess.run([z,w,ans_2,out])"
   ]
  },
  {
   "cell_type": "code",
   "execution_count": 18,
   "metadata": {},
   "outputs": [
    {
     "data": {
      "text/plain": [
       "array([[ True, False, False],\n",
       "       [ True, False, False]])"
      ]
     },
     "execution_count": 18,
     "metadata": {},
     "output_type": "execute_result"
    }
   ],
   "source": [
    "###############################################################################\n",
    "# 1c: Create the tensor x of the value [[0, -2, -1], [0, 1, 2]] \n",
    "# and y as a tensor of zeros with the same shape as x.\n",
    "# Return a boolean tensor that yields Trues if x equals y element-wise.\n",
    "# Hint: Look up tf.equal().\n",
    "###############################################################################\n",
    "x = tf.constant([[0, -2, -1], [0, 1, 2]],dtype=\"float32\",name=\"const_x\")\n",
    "y = tf.zeros(x.shape)\n",
    "# or tf.zeros_like(x)\n",
    "sess.run(tf.equal(x,y,\"equal_x_y\"))"
   ]
  },
  {
   "cell_type": "code",
   "execution_count": 20,
   "metadata": {},
   "outputs": [
    {
     "name": "stdout",
     "output_type": "stream",
     "text": [
      "[[ 2]\n",
      " [ 4]\n",
      " [ 6]\n",
      " [ 8]\n",
      " [ 9]\n",
      " [11]\n",
      " [14]\n",
      " [16]\n",
      " [18]] [[31.190735]\n",
      " [30.97266 ]\n",
      " [38.084503]\n",
      " [34.944454]\n",
      " [34.45999 ]\n",
      " [36.01657 ]\n",
      " [30.20379 ]\n",
      " [33.711494]\n",
      " [36.055565]]\n"
     ]
    }
   ],
   "source": [
    "###############################################################################\n",
    "# 1d: Create the tensor x of value \n",
    "# [29.05088806,  27.61298943,  31.19073486,  29.35532951,\n",
    "#  30.97266006,  26.67541885,  38.08450317,  20.74983215,\n",
    "#  34.94445419,  34.45999146,  29.06485367,  36.01657104,\n",
    "#  27.88236427,  20.56035233,  30.20379066,  29.51215172,\n",
    "#  33.71149445,  28.59134293,  36.05556488,  28.66994858].\n",
    "# Get the indices of elements in x whose values are greater than 30.\n",
    "# Hint: Use tf.where().\n",
    "# Then extract elements whose values are greater than 30.\n",
    "# Hint: Use tf.gather().\n",
    "###############################################################################\n",
    "arr = [29.05088806,  27.61298943,  31.19073486,  29.35532951,\n",
    " 30.97266006,  26.67541885,  38.08450317,  20.74983215,\n",
    " 34.94445419,  34.45999146,  29.06485367,  36.01657104,\n",
    " 27.88236427,  20.56035233,  30.20379066,  29.51215172,\n",
    " 33.71149445,  28.59134293,  36.05556488,  28.66994858]\n",
    "x = tf.constant(arr,dtype=\"float32\")\n",
    "indices = tf.where(x > 30)\n",
    "print(\"{0} {1}\".format(sess.run(indices),sess.run(tf.gather(x,indices=indices))))"
   ]
  },
  {
   "cell_type": "code",
   "execution_count": 6,
   "metadata": {
    "scrolled": true
   },
   "outputs": [
    {
     "data": {
      "text/plain": [
       "array([[1, 0, 0, 0, 0, 0],\n",
       "       [0, 2, 0, 0, 0, 0],\n",
       "       [0, 0, 3, 0, 0, 0],\n",
       "       [0, 0, 0, 4, 0, 0],\n",
       "       [0, 0, 0, 0, 5, 0],\n",
       "       [0, 0, 0, 0, 0, 6]], dtype=int32)"
      ]
     },
     "execution_count": 6,
     "metadata": {},
     "output_type": "execute_result"
    }
   ],
   "source": [
    "###############################################################################\n",
    "# 1e: Create a diagnoal 2-d tensor of size 6 x 6 with the diagonal values of 1,\n",
    "# 2, ..., 6\n",
    "# Hint: Use tf.range() and tf.diag().\n",
    "###############################################################################\n",
    "sess.run(tf.diag(tf.range(1,7)))"
   ]
  },
  {
   "cell_type": "code",
   "execution_count": 21,
   "metadata": {},
   "outputs": [
    {
     "data": {
      "text/plain": [
       "[array([[11.370145 ,  9.865634 , 10.097978 , 10.823208 , 10.069962 ,\n",
       "         10.844887 ,  9.477124 , 10.356702 ,  9.899151 , 10.527064 ],\n",
       "        [ 9.410095 ,  9.601612 ,  9.252334 , 10.858159 , 10.552427 ,\n",
       "          9.881888 ,  9.789231 , 10.129561 ,  9.728655 ,  9.025435 ],\n",
       "        [10.672534 ,  9.511955 , 10.678213 ,  9.292104 , 10.812033 ,\n",
       "         10.291742 ,  9.307807 , 10.084117 ,  9.906007 ,  8.663023 ],\n",
       "        [10.93027  , 10.291708 ,  8.368289 ,  9.345234 ,  7.974103 ,\n",
       "         10.16992  ,  9.946216 , 10.061315 ,  8.966318 ,  8.476199 ],\n",
       "        [ 9.428619 , 10.959448 , 10.250418 ,  7.6016045,  9.676426 ,\n",
       "         10.939677 , 10.8481   , 10.495489 ,  9.219929 ,  9.257703 ],\n",
       "        [10.614498 , 11.171098 ,  9.504447 ,  9.93621  , 10.518507 ,\n",
       "          9.1671505,  9.970791 ,  9.02618  ,  9.361233 , 11.041529 ],\n",
       "        [ 9.581764 , 10.244398 ,  9.702659 , 10.796526 ,  9.049619 ,\n",
       "          8.795648 , 10.247463 , 12.538597 ,  8.31203  ,  9.916611 ],\n",
       "        [ 9.601653 ,  8.795648 , 10.688503 ,  9.230087 ,  8.511873 ,\n",
       "         10.113813 , 10.284189 , 10.007678 , 10.773182 , 10.260427 ],\n",
       "        [11.784481 , 11.14686  ,  9.856102 , 10.731926 , 10.319321 ,\n",
       "          8.878662 , 10.264428 , 10.325192 ,  9.1889   , 10.325274 ],\n",
       "        [10.262098 ,  9.643597 ,  9.611889 ,  9.645127 ,  8.209515 ,\n",
       "         10.676358 , 10.410172 ,  9.336964 , 11.019635 ,  8.962298 ]],\n",
       "       dtype=float32), 2644.9055]"
      ]
     },
     "execution_count": 21,
     "metadata": {},
     "output_type": "execute_result"
    }
   ],
   "source": [
    "###############################################################################\n",
    "# 1f: Create a random 2-d tensor of size 10 x 10 from any distribution.\n",
    "# Calculate its determinant.\n",
    "# Hint: Look at tf.matrix_determinant().\n",
    "###############################################################################\n",
    "ran_mat = tf.random_normal((10,10),mean=10,stddev=1)\n",
    "sess.run([ran_mat,tf.matrix_determinant(ran_mat)])"
   ]
  },
  {
   "cell_type": "code",
   "execution_count": 8,
   "metadata": {},
   "outputs": [
    {
     "data": {
      "text/plain": [
       "[5, 2, 3, 10, 6, 4, 1, 0, 9]"
      ]
     },
     "execution_count": 8,
     "metadata": {},
     "output_type": "execute_result"
    }
   ],
   "source": [
    "\n",
    "###############################################################################\n",
    "# 1g: Create tensor x with value [5, 2, 3, 5, 10, 6, 2, 3, 4, 2, 1, 1, 0, 9].\n",
    "# Return the unique elements in x\n",
    "# Hint: use tf.unique(). Keep in mind that tf.unique() returns a tuple.\n",
    "###############################################################################\n",
    "\n",
    "x = tf.constant([5, 2, 3, 5, 10, 6, 2, 3, 4, 2, 1, 1, 0, 9])\n",
    "uni = sess.run(tf.unique(x))\n",
    "list(uni[0])"
   ]
  },
  {
   "cell_type": "code",
   "execution_count": 22,
   "metadata": {},
   "outputs": [
    {
     "data": {
      "text/plain": [
       "1.8437566"
      ]
     },
     "execution_count": 22,
     "metadata": {},
     "output_type": "execute_result"
    }
   ],
   "source": [
    "###############################################################################\n",
    "# 1h: Create two tensors x and y of shape 300 from any normal distribution,\n",
    "# as long as they are from the same distribution.\n",
    "# Use tf.cond() to return:\n",
    "# - The mean squared error of (x - y) if the average of all elements in (x - y)\n",
    "#   is negative, or\n",
    "# - The sum of absolute value of all elements in the tensor (x - y) otherwise.\n",
    "# Hint: see the Huber loss function in the lecture slides 3.\n",
    "###############################################################################\n",
    "x = tf.random_normal([300],mean=5,stddev=1)\n",
    "y = tf.random_normal((1,300),mean=5,stddev=1)\n",
    "# print(sess.run([x,y]))\n",
    "f_1 = lambda :tf.reduce_mean(tf.square(x-y))\n",
    "f_2 = lambda :tf.reduce_mean(tf.abs(x-y))\n",
    "sess.run(tf.cond(tf.reduce_mean(x-y)<0,f_1,f_2))"
   ]
  }
 ],
 "metadata": {
  "kernelspec": {
   "display_name": "Python 3",
   "language": "python",
   "name": "python3"
  },
  "language_info": {
   "codemirror_mode": {
    "name": "ipython",
    "version": 3
   },
   "file_extension": ".py",
   "mimetype": "text/x-python",
   "name": "python",
   "nbconvert_exporter": "python",
   "pygments_lexer": "ipython3",
   "version": "3.6.5"
  }
 },
 "nbformat": 4,
 "nbformat_minor": 2
}
