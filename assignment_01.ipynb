{
 "cells": [
  {
   "cell_type": "markdown",
   "metadata": {},
   "source": [
    "## problem 1"
   ]
  },
  {
   "cell_type": "code",
   "execution_count": 1,
   "metadata": {},
   "outputs": [
    {
     "name": "stderr",
     "output_type": "stream",
     "text": [
      "/home/joel/anaconda3/envs/tf/lib/python3.6/site-packages/h5py/__init__.py:36: FutureWarning: Conversion of the second argument of issubdtype from `float` to `np.floating` is deprecated. In future, it will be treated as `np.float64 == np.dtype(float).type`.\n",
      "  from ._conv import register_converters as _register_converters\n"
     ]
    }
   ],
   "source": [
    "\"\"\"\n",
    "Simple exercises to get used to TensorFlow API\n",
    "You should thoroughly test your code.\n",
    "TensorFlow's official documentation should be your best friend here\n",
    "CS20: \"TensorFlow for Deep Learning Research\"\n",
    "cs20.stanford.edu\n",
    "Created by Chip Huyen (chiphuyen@cs.stanford.edu)\n",
    "\"\"\"\n",
    "import os\n",
    "os.environ['TF_CPP_MIN_LOG_LEVEL']='2'\n",
    "\n",
    "import tensorflow as tf\n",
    "from datetime import datetime\n",
    "# sess = tf.InteractiveSession()"
   ]
  },
  {
   "cell_type": "code",
   "execution_count": 2,
   "metadata": {},
   "outputs": [
    {
     "ename": "NameError",
     "evalue": "name 'sess' is not defined",
     "output_type": "error",
     "traceback": [
      "\u001b[0;31m---------------------------------------------------------------------------\u001b[0m",
      "\u001b[0;31mNameError\u001b[0m                                 Traceback (most recent call last)",
      "\u001b[0;32m<ipython-input-2-c99dc0d53174>\u001b[0m in \u001b[0;36m<module>\u001b[0;34m()\u001b[0m\n\u001b[1;32m      8\u001b[0m \u001b[0my\u001b[0m \u001b[0;34m=\u001b[0m \u001b[0mtf\u001b[0m\u001b[0;34m.\u001b[0m\u001b[0mrandom_normal\u001b[0m\u001b[0;34m(\u001b[0m\u001b[0;34m[\u001b[0m\u001b[0;34m]\u001b[0m\u001b[0;34m,\u001b[0m\u001b[0mname\u001b[0m\u001b[0;34m=\u001b[0m\u001b[0;34m'y'\u001b[0m\u001b[0;34m)\u001b[0m\u001b[0;34m\u001b[0m\u001b[0m\n\u001b[1;32m      9\u001b[0m \u001b[0mans_1\u001b[0m \u001b[0;34m=\u001b[0m \u001b[0mtf\u001b[0m\u001b[0;34m.\u001b[0m\u001b[0mcond\u001b[0m\u001b[0;34m(\u001b[0m\u001b[0mtf\u001b[0m\u001b[0;34m.\u001b[0m\u001b[0mgreater\u001b[0m\u001b[0;34m(\u001b[0m\u001b[0mx\u001b[0m\u001b[0;34m,\u001b[0m\u001b[0my\u001b[0m\u001b[0;34m)\u001b[0m\u001b[0;34m,\u001b[0m\u001b[0;32mlambda\u001b[0m\u001b[0;34m:\u001b[0m \u001b[0mtf\u001b[0m\u001b[0;34m.\u001b[0m\u001b[0madd\u001b[0m\u001b[0;34m(\u001b[0m\u001b[0mx\u001b[0m\u001b[0;34m,\u001b[0m\u001b[0my\u001b[0m\u001b[0;34m)\u001b[0m\u001b[0;34m,\u001b[0m\u001b[0;32mlambda\u001b[0m\u001b[0;34m:\u001b[0m \u001b[0mtf\u001b[0m\u001b[0;34m.\u001b[0m\u001b[0msubtract\u001b[0m\u001b[0;34m(\u001b[0m\u001b[0mx\u001b[0m\u001b[0;34m,\u001b[0m\u001b[0my\u001b[0m\u001b[0;34m)\u001b[0m\u001b[0;34m)\u001b[0m\u001b[0;34m\u001b[0m\u001b[0m\n\u001b[0;32m---> 10\u001b[0;31m \u001b[0msess\u001b[0m\u001b[0;34m.\u001b[0m\u001b[0mrun\u001b[0m\u001b[0;34m(\u001b[0m\u001b[0;34m[\u001b[0m\u001b[0mx\u001b[0m\u001b[0;34m,\u001b[0m\u001b[0my\u001b[0m\u001b[0;34m,\u001b[0m\u001b[0mans_1\u001b[0m\u001b[0;34m]\u001b[0m\u001b[0;34m)\u001b[0m\u001b[0;34m\u001b[0m\u001b[0m\n\u001b[0m",
      "\u001b[0;31mNameError\u001b[0m: name 'sess' is not defined"
     ]
    }
   ],
   "source": [
    "###############################################################################\n",
    "# 1a: Create two random 0-d tensors x and y of any distribution.\n",
    "# Create a TensorFlow object that returns x + y if x > y, and x - y otherwise.\n",
    "# Hint: look up tf.cond()\n",
    "# I do the first problem for you\n",
    "###############################################################################\n",
    "x = tf.random_normal([],name='x')\n",
    "y = tf.random_normal([],name='y')\n",
    "ans_1 = tf.cond(tf.greater(x,y),lambda: tf.add(x,y),lambda: tf.subtract(x,y))\n",
    "sess.run([x,y,ans_1])"
   ]
  },
  {
   "cell_type": "code",
   "execution_count": null,
   "metadata": {},
   "outputs": [],
   "source": [
    "###############################################################################\n",
    "# 1b: Create two 0-d tensors x and y randomly selected from the range [-1, 1).\n",
    "# Return x + y if x < y, x - y if x > y, 0 otherwise.\n",
    "# Hint: Look up tf.case().\n",
    "###############################################################################\n",
    "z = tf.random_uniform([],minval=-1,maxval=1)\n",
    "w = tf.random_uniform([],minval=-1,maxval=1)\n",
    "def fn1(): return tf.cond(tf.equal(z,w),lambda: tf.zeros([]),lambda: tf.subtract(z,w))\n",
    "ans_2 = tf.cond(tf.less(z,w),lambda: tf.add(z,w),fn1)\n",
    "out = tf.case({tf.less(z,w):lambda:tf.add(z,w),tf.greater(z, w): lambda: tf.subtract(z, w)},default=lambda: tf.constant(0.0), exclusive=True)\n",
    "sess.run([z,w,ans_2,out])"
   ]
  },
  {
   "cell_type": "code",
   "execution_count": null,
   "metadata": {},
   "outputs": [],
   "source": [
    "###############################################################################\n",
    "# 1c: Create the tensor x of the value [[0, -2, -1], [0, 1, 2]] \n",
    "# and y as a tensor of zeros with the same shape as x.\n",
    "# Return a boolean tensor that yields Trues if x equals y element-wise.\n",
    "# Hint: Look up tf.equal().\n",
    "###############################################################################\n",
    "x = tf.constant([[0, -2, -1], [0, 1, 2]],dtype=\"float32\",name=\"const_x\")\n",
    "y = tf.zeros(x.shape)\n",
    "# or tf.zeros_like(x)\n",
    "sess.run(tf.equal(x,y,\"equal_x_y\"))"
   ]
  },
  {
   "cell_type": "code",
   "execution_count": null,
   "metadata": {},
   "outputs": [],
   "source": [
    "###############################################################################\n",
    "# 1d: Create the tensor x of value \n",
    "# [29.05088806,  27.61298943,  31.19073486,  29.35532951,\n",
    "#  30.97266006,  26.67541885,  38.08450317,  20.74983215,\n",
    "#  34.94445419,  34.45999146,  29.06485367,  36.01657104,\n",
    "#  27.88236427,  20.56035233,  30.20379066,  29.51215172,\n",
    "#  33.71149445,  28.59134293,  36.05556488,  28.66994858].\n",
    "# Get the indices of elements in x whose values are greater than 30.\n",
    "# Hint: Use tf.where().\n",
    "# Then extract elements whose values are greater than 30.\n",
    "# Hint: Use tf.gather().\n",
    "###############################################################################\n",
    "arr = [29.05088806,  27.61298943,  31.19073486,  29.35532951,\n",
    " 30.97266006,  26.67541885,  38.08450317,  20.74983215,\n",
    " 34.94445419,  34.45999146,  29.06485367,  36.01657104,\n",
    " 27.88236427,  20.56035233,  30.20379066,  29.51215172,\n",
    " 33.71149445,  28.59134293,  36.05556488,  28.66994858]\n",
    "x = tf.constant(arr,dtype=\"float32\")\n",
    "indices = tf.where(x > 30)\n",
    "print(\"{0} {1}\".format(sess.run(indices),sess.run(tf.gather(x,indices=indices))))"
   ]
  },
  {
   "cell_type": "code",
   "execution_count": null,
   "metadata": {
    "scrolled": true
   },
   "outputs": [],
   "source": [
    "###############################################################################\n",
    "# 1e: Create a diagnoal 2-d tensor of size 6 x 6 with the diagonal values of 1,\n",
    "# 2, ..., 6\n",
    "# Hint: Use tf.range() and tf.diag().\n",
    "###############################################################################\n",
    "sess.run(tf.diag(tf.range(1,7)))"
   ]
  },
  {
   "cell_type": "code",
   "execution_count": null,
   "metadata": {},
   "outputs": [],
   "source": [
    "###############################################################################\n",
    "# 1f: Create a random 2-d tensor of size 10 x 10 from any distribution.\n",
    "# Calculate its determinant.\n",
    "# Hint: Look at tf.matrix_determinant().\n",
    "###############################################################################\n",
    "ran_mat = tf.random_normal((10,10),mean=10,stddev=1)\n",
    "sess.run([ran_mat,tf.matrix_determinant(ran_mat)])"
   ]
  },
  {
   "cell_type": "code",
   "execution_count": null,
   "metadata": {},
   "outputs": [],
   "source": [
    "\n",
    "###############################################################################\n",
    "# 1g: Create tensor x with value [5, 2, 3, 5, 10, 6, 2, 3, 4, 2, 1, 1, 0, 9].\n",
    "# Return the unique elements in x\n",
    "# Hint: use tf.unique(). Keep in mind that tf.unique() returns a tuple.\n",
    "###############################################################################\n",
    "\n",
    "x = tf.constant([5, 2, 3, 5, 10, 6, 2, 3, 4, 2, 1, 1, 0, 9])\n",
    "uni = sess.run(tf.unique(x))\n",
    "list(uni[0])"
   ]
  },
  {
   "cell_type": "code",
   "execution_count": null,
   "metadata": {},
   "outputs": [],
   "source": [
    "###############################################################################\n",
    "# 1h: Create two tensors x and y of shape 300 from any normal distribution,\n",
    "# as long as they are from the same distribution.\n",
    "# Use tf.cond() to return:\n",
    "# - The mean squared error of (x - y) if the average of all elements in (x - y)\n",
    "#   is negative, or\n",
    "# - The sum of absolute value of all elements in the tensor (x - y) otherwise.\n",
    "# Hint: see the Huber loss function in the lecture slides 3.\n",
    "###############################################################################\n",
    "x = tf.random_normal([300],mean=5,stddev=1)\n",
    "y = tf.random_normal((1,300),mean=5,stddev=1)\n",
    "# print(sess.run([x,y]))\n",
    "f_1 = lambda :tf.reduce_mean(tf.square(x-y))\n",
    "f_2 = lambda :tf.reduce_mean(tf.abs(x-y))\n",
    "sess.run(tf.cond(tf.reduce_mean(x-y)<0,f_1,f_2))"
   ]
  },
  {
   "cell_type": "markdown",
   "metadata": {},
   "source": [
    "## Problem 2: Logistic regression\n",
    "2a. Logistic regression with MNIST ``is done in lession 3``"
   ]
  },
  {
   "cell_type": "markdown",
   "metadata": {},
   "source": [
    "##### 2b. More logistic regression"
   ]
  },
  {
   "cell_type": "markdown",
   "metadata": {},
   "source": [
    "`Task 1: Improve the accuracy of logistic regression on MNIST`"
   ]
  },
  {
   "cell_type": "code",
   "execution_count": 3,
   "metadata": {},
   "outputs": [
    {
     "name": "stdout",
     "output_type": "stream",
     "text": [
      "WARNING:tensorflow:From <ipython-input-3-93d8da72a918>:2: read_data_sets (from tensorflow.contrib.learn.python.learn.datasets.mnist) is deprecated and will be removed in a future version.\n",
      "Instructions for updating:\n",
      "Please use alternatives such as official/mnist/dataset.py from tensorflow/models.\n",
      "WARNING:tensorflow:From /home/joel/anaconda3/envs/tf/lib/python3.6/site-packages/tensorflow/contrib/learn/python/learn/datasets/mnist.py:260: maybe_download (from tensorflow.contrib.learn.python.learn.datasets.base) is deprecated and will be removed in a future version.\n",
      "Instructions for updating:\n",
      "Please write your own downloading logic.\n",
      "WARNING:tensorflow:From /home/joel/anaconda3/envs/tf/lib/python3.6/site-packages/tensorflow/contrib/learn/python/learn/datasets/mnist.py:262: extract_images (from tensorflow.contrib.learn.python.learn.datasets.mnist) is deprecated and will be removed in a future version.\n",
      "Instructions for updating:\n",
      "Please use tf.data to implement this functionality.\n",
      "Extracting MNIST_data/train-images-idx3-ubyte.gz\n",
      "WARNING:tensorflow:From /home/joel/anaconda3/envs/tf/lib/python3.6/site-packages/tensorflow/contrib/learn/python/learn/datasets/mnist.py:267: extract_labels (from tensorflow.contrib.learn.python.learn.datasets.mnist) is deprecated and will be removed in a future version.\n",
      "Instructions for updating:\n",
      "Please use tf.data to implement this functionality.\n",
      "Extracting MNIST_data/train-labels-idx1-ubyte.gz\n",
      "WARNING:tensorflow:From /home/joel/anaconda3/envs/tf/lib/python3.6/site-packages/tensorflow/contrib/learn/python/learn/datasets/mnist.py:110: dense_to_one_hot (from tensorflow.contrib.learn.python.learn.datasets.mnist) is deprecated and will be removed in a future version.\n",
      "Instructions for updating:\n",
      "Please use tf.one_hot on tensors.\n",
      "Extracting MNIST_data/t10k-images-idx3-ubyte.gz\n",
      "Extracting MNIST_data/t10k-labels-idx1-ubyte.gz\n",
      "WARNING:tensorflow:From /home/joel/anaconda3/envs/tf/lib/python3.6/site-packages/tensorflow/contrib/learn/python/learn/datasets/mnist.py:290: DataSet.__init__ (from tensorflow.contrib.learn.python.learn.datasets.mnist) is deprecated and will be removed in a future version.\n",
      "Instructions for updating:\n",
      "Please use alternatives such as official/mnist/dataset.py from tensorflow/models.\n"
     ]
    }
   ],
   "source": [
    "from tensorflow.examples.tutorials.mnist import input_data\n",
    "mnist = input_data.read_data_sets('MNIST_data', one_hot=True)"
   ]
  },
  {
   "cell_type": "code",
   "execution_count": 4,
   "metadata": {},
   "outputs": [],
   "source": [
    "def weight_variables(shape):\n",
    "    initial =  tf.truncated_normal(shape,stddev=0.1)\n",
    "    return tf.Variable(initial)\n",
    "\n",
    "def bias_variable(shape):\n",
    "    initial =  tf.constant(0.1,shape=shape)\n",
    "    return tf.Variable(initial)"
   ]
  },
  {
   "cell_type": "code",
   "execution_count": 5,
   "metadata": {},
   "outputs": [],
   "source": [
    "def conv_layer(x,W):\n",
    "    return tf.nn.conv2d(x,W,[1,1,1,1],padding='SAME')\n",
    "\n",
    "def max_pool(x):\n",
    "    return tf.nn.max_pool(x,ksize=[1,2,2,1],strides=[1,2,2,1],padding='SAME')"
   ]
  },
  {
   "cell_type": "code",
   "execution_count": 6,
   "metadata": {},
   "outputs": [],
   "source": [
    "x = tf.placeholder(tf.float32, [None, 784])\n",
    "y_ = tf.placeholder(tf.float32, [None, 10])\n",
    "\n",
    "x_image = tf.reshape(x,[-1,28,28,1])\n",
    "\n",
    "weight_1 = weight_variables([5,5,1,32])\n",
    "bias_1 = bias_variable([32])\n",
    "conv_1 = tf.nn.relu(conv_layer(x_image,weight_1)+bias_1)\n",
    "poll_1 = max_pool(conv_1)"
   ]
  },
  {
   "cell_type": "code",
   "execution_count": 7,
   "metadata": {},
   "outputs": [],
   "source": [
    "weight_2 = weight_variables([5,5,32,64])\n",
    "bias_2 = bias_variable([64])\n",
    "conv_2 = tf.nn.relu(conv_layer(poll_1,weight_2)+bias_2)\n",
    "poll_2 = max_pool(conv_2)"
   ]
  },
  {
   "cell_type": "code",
   "execution_count": 8,
   "metadata": {},
   "outputs": [],
   "source": [
    "weight_fl = weight_variables([7*7*64,1024])\n",
    "bias_fl = bias_variable([1024])\n",
    "poll_fl = tf.reshape(poll_2,[-1, 7*7*64])\n",
    "final_layer = tf.nn.relu(tf.matmul(poll_fl,weight_fl)+bias_fl)"
   ]
  },
  {
   "cell_type": "code",
   "execution_count": 9,
   "metadata": {},
   "outputs": [],
   "source": [
    "keep_pro = tf.placeholder(tf.float32)\n",
    "final_layer_dropout = tf.nn.dropout(final_layer,keep_pro)"
   ]
  },
  {
   "cell_type": "code",
   "execution_count": 10,
   "metadata": {},
   "outputs": [],
   "source": [
    "#read layer\n",
    "W_final = weight_variables([1024,10])\n",
    "b_final = bias_variable([10])\n",
    "\n",
    "y_conv = tf.matmul(final_layer_dropout,W_final)+b_final"
   ]
  },
  {
   "cell_type": "code",
   "execution_count": 11,
   "metadata": {},
   "outputs": [
    {
     "name": "stdout",
     "output_type": "stream",
     "text": [
      "WARNING:tensorflow:From <ipython-input-11-b3392df4a0bd>:3: softmax_cross_entropy_with_logits (from tensorflow.python.ops.nn_ops) is deprecated and will be removed in a future version.\n",
      "Instructions for updating:\n",
      "\n",
      "Future major versions of TensorFlow will allow gradients to flow\n",
      "into the labels input on backprop by default.\n",
      "\n",
      "See @{tf.nn.softmax_cross_entropy_with_logits_v2}.\n",
      "\n",
      "step 0 training accuracy 0.12\n",
      "step 100 training accuracy 0.8\n",
      "step 200 training accuracy 0.9\n",
      "step 300 training accuracy 0.86\n",
      "step 400 training accuracy 0.92\n",
      "step 500 training accuracy 0.96\n",
      "step 600 training accuracy 0.98\n",
      "step 700 training accuracy 0.92\n",
      "step 800 training accuracy 0.96\n",
      "step 900 training accuracy 0.94\n",
      "step 1000 training accuracy 0.92\n",
      "step 1100 training accuracy 0.94\n",
      "step 1200 training accuracy 1\n",
      "step 1300 training accuracy 0.96\n",
      "step 1400 training accuracy 0.94\n",
      "step 1500 training accuracy 0.96\n",
      "step 1600 training accuracy 0.92\n",
      "step 1700 training accuracy 0.98\n",
      "step 1800 training accuracy 1\n",
      "step 1900 training accuracy 1\n",
      "step 2000 training accuracy 0.98\n",
      "step 2100 training accuracy 0.96\n",
      "step 2200 training accuracy 1\n",
      "step 2300 training accuracy 1\n",
      "step 2400 training accuracy 0.96\n",
      "step 2500 training accuracy 0.98\n",
      "step 2600 training accuracy 1\n",
      "step 2700 training accuracy 0.98\n",
      "step 2800 training accuracy 0.98\n",
      "step 2900 training accuracy 0.96\n",
      "step 3000 training accuracy 1\n",
      "step 3100 training accuracy 1\n",
      "step 3200 training accuracy 1\n",
      "step 3300 training accuracy 0.98\n",
      "step 3400 training accuracy 0.94\n",
      "step 3500 training accuracy 1\n",
      "step 3600 training accuracy 0.98\n",
      "step 3700 training accuracy 0.98\n",
      "step 3800 training accuracy 1\n",
      "step 3900 training accuracy 0.98\n",
      "step 4000 training accuracy 1\n",
      "step 4100 training accuracy 0.98\n",
      "step 4200 training accuracy 1\n",
      "step 4300 training accuracy 1\n",
      "step 4400 training accuracy 1\n",
      "step 4500 training accuracy 1\n",
      "step 4600 training accuracy 0.98\n",
      "step 4700 training accuracy 1\n",
      "step 4800 training accuracy 1\n",
      "step 4900 training accuracy 1\n",
      "Time taken: 0:01:49.690000\n"
     ]
    }
   ],
   "source": [
    "# this may output error as the resources get exhausted so test it as batch\n",
    "startTime = datetime.now()\n",
    "with tf.device('/gpu:0'):\n",
    "    cross_entropy = tf.reduce_mean(tf.nn.softmax_cross_entropy_with_logits(labels=y_,logits=y_conv))\n",
    "    train_step = tf.train.AdamOptimizer(1e-4).minimize(cross_entropy)\n",
    "    correct_prediction = tf.equal(tf.argmax(y_conv,1),tf.argmax(y_,1))\n",
    "    accuracy = tf.reduce_mean(tf.cast(correct_prediction,tf.float32))\n",
    "\n",
    "    with tf.Session() as sess:\n",
    "        sess.run(tf.global_variables_initializer())\n",
    "        for i in range(10000):\n",
    "            batch = mnist.train.next_batch(50)\n",
    "            if i % 100 == 0:\n",
    "                train_accuracy = accuracy.eval(feed_dict={\n",
    "                    x:batch[0],y_:batch[1],keep_pro:1.0\n",
    "                })\n",
    "                print('step %d training accuracy %g' % (i,train_accuracy))\n",
    "            train_step.run(feed_dict={x:batch[0],y_:batch[1],keep_pro:0.5})\n",
    "        print(\"test accuracy %g\" % accuracy.eval(feed_dict={\n",
    "            x:mnist.test.images,y_:mnist.test.labels,keep_pro:1.0\n",
    "        }))\n",
    "print(\"Time taken:\", datetime.now() - startTime)"
   ]
  }
 ],
 "metadata": {
  "kernelspec": {
   "display_name": "Python 3",
   "language": "python",
   "name": "python3"
  },
  "language_info": {
   "codemirror_mode": {
    "name": "ipython",
    "version": 3
   },
   "file_extension": ".py",
   "mimetype": "text/x-python",
   "name": "python",
   "nbconvert_exporter": "python",
   "pygments_lexer": "ipython3",
   "version": "3.6.5"
  }
 },
 "nbformat": 4,
 "nbformat_minor": 2
}
